{
 "cells": [
  {
   "cell_type": "code",
   "execution_count": 3,
   "metadata": {},
   "outputs": [],
   "source": [
    "\"\"\"\n",
    "First iPython notebook. We will attempt to find all non-intersecting paths of length\n",
    "n*n in an n-by-n grid.\n",
    "\"\"\"\n",
    "import numpy as np\n",
    "import random\n",
    "import matplotlib.pyplot as plt\n",
    "%matplotlib inline"
   ]
  },
  {
   "cell_type": "code",
   "execution_count": 2,
   "metadata": {
    "collapsed": true
   },
   "outputs": [],
   "source": [
    "# Xiao's code for defining a square grid or matrix of size n.\n",
    "def matrix_maker(n):\n",
    "    return np.zeros((n,n), dtype=np.int)"
   ]
  },
  {
   "cell_type": "code",
   "execution_count": 35,
   "metadata": {},
   "outputs": [
    {
     "data": {
      "text/plain": [
       "array([[0, 0, 0, 0],\n",
       "       [0, 0, 0, 0],\n",
       "       [0, 0, 0, 0],\n",
       "       [0, 0, 0, 0]])"
      ]
     },
     "execution_count": 35,
     "metadata": {},
     "output_type": "execute_result"
    }
   ],
   "source": [
    "# Test the output of matrix_maker\n",
    "n = 4\n",
    "x = matrix_maker(n)\n",
    "x"
   ]
  },
  {
   "cell_type": "code",
   "execution_count": 47,
   "metadata": {},
   "outputs": [
    {
     "data": {
      "text/plain": [
       "array([[ 1,  2,  3,  4],\n",
       "       [ 5,  6,  7,  8],\n",
       "       [ 9, 10, 11, 12],\n",
       "       [13, 14, 15, 16]])"
      ]
     },
     "execution_count": 47,
     "metadata": {},
     "output_type": "execute_result"
    }
   ],
   "source": [
    "# Let us identify the entries (nodes) of the matrix in the normal sense, beging at the upper left corner, working\n",
    "# along the rows.\n",
    "count = 0\n",
    "\n",
    "for i in range(n):\n",
    "    for j in range(n):\n",
    "        count = count + 1\n",
    "        x[i,j] = count\n",
    "        \n",
    "x"
   ]
  },
  {
   "cell_type": "code",
   "execution_count": 37,
   "metadata": {},
   "outputs": [
    {
     "data": {
      "text/plain": [
       "array([[ 1,  2,  3,  4,  5,  6,  7,  8,  9, 10, 11, 12, 13, 14, 15, 16]])"
      ]
     },
     "execution_count": 37,
     "metadata": {},
     "output_type": "execute_result"
    }
   ],
   "source": [
    "# We may want to take advantage of reshaping the matrix, this can be done easily in Python as follows.\n",
    "x.reshape(1,n*n)"
   ]
  },
  {
   "cell_type": "code",
   "execution_count": 56,
   "metadata": {},
   "outputs": [],
   "source": [
    "# With the matrix entries (nodes) identified in the normal sense, we can define the adjacency matrix in the sense\n",
    "# of a simple square lattice in graph theory. This matrix tells us the possible next options from the node we are on\n",
    "# by the 1's along the row or column.\n",
    "def adjacency_matrix(rows, cols):\n",
    "    n = rows*cols\n",
    "#     M = matrix(n,n)\n",
    "    M = np.zeros((n,n), dtype=np.int)\n",
    "    for r in range(rows):\n",
    "        for c in range(cols):\n",
    "            i = r*cols + c\n",
    "            # Two inner diagonals\n",
    "            if c > 0: M[i-1,i] = M[i,i-1] = 1\n",
    "            # Two outer diagonals\n",
    "            if r > 0: M[i-cols,i] = M[i,i-cols] = 1\n",
    "    return M"
   ]
  },
  {
   "cell_type": "code",
   "execution_count": 58,
   "metadata": {},
   "outputs": [
    {
     "data": {
      "text/plain": [
       "array([[0, 1, 0, 0, 1, 0, 0, 0, 0, 0, 0, 0, 0, 0, 0, 0],\n",
       "       [1, 0, 1, 0, 0, 1, 0, 0, 0, 0, 0, 0, 0, 0, 0, 0],\n",
       "       [0, 1, 0, 1, 0, 0, 1, 0, 0, 0, 0, 0, 0, 0, 0, 0],\n",
       "       [0, 0, 1, 0, 0, 0, 0, 1, 0, 0, 0, 0, 0, 0, 0, 0],\n",
       "       [1, 0, 0, 0, 0, 1, 0, 0, 1, 0, 0, 0, 0, 0, 0, 0],\n",
       "       [0, 1, 0, 0, 1, 0, 1, 0, 0, 1, 0, 0, 0, 0, 0, 0],\n",
       "       [0, 0, 1, 0, 0, 1, 0, 1, 0, 0, 1, 0, 0, 0, 0, 0],\n",
       "       [0, 0, 0, 1, 0, 0, 1, 0, 0, 0, 0, 1, 0, 0, 0, 0],\n",
       "       [0, 0, 0, 0, 1, 0, 0, 0, 0, 1, 0, 0, 1, 0, 0, 0],\n",
       "       [0, 0, 0, 0, 0, 1, 0, 0, 1, 0, 1, 0, 0, 1, 0, 0],\n",
       "       [0, 0, 0, 0, 0, 0, 1, 0, 0, 1, 0, 1, 0, 0, 1, 0],\n",
       "       [0, 0, 0, 0, 0, 0, 0, 1, 0, 0, 1, 0, 0, 0, 0, 1],\n",
       "       [0, 0, 0, 0, 0, 0, 0, 0, 1, 0, 0, 0, 0, 1, 0, 0],\n",
       "       [0, 0, 0, 0, 0, 0, 0, 0, 0, 1, 0, 0, 1, 0, 1, 0],\n",
       "       [0, 0, 0, 0, 0, 0, 0, 0, 0, 0, 1, 0, 0, 1, 0, 1],\n",
       "       [0, 0, 0, 0, 0, 0, 0, 0, 0, 0, 0, 1, 0, 0, 1, 0]])"
      ]
     },
     "execution_count": 58,
     "metadata": {},
     "output_type": "execute_result"
    }
   ],
   "source": [
    "# Test the creation of the adjacency matrix given the elementry/node matrix.\n",
    "adjacency_x = adjacency_matrix(x.shape[0],x.shape[1])\n",
    "adjacency_x"
   ]
  },
  {
   "cell_type": "code",
   "execution_count": 144,
   "metadata": {
    "collapsed": true
   },
   "outputs": [],
   "source": [
    "# Below are Xiao's rules for next possible move in defining a path within the grid/matrix. \n",
    "def next_move(i,j,x):\n",
    "    #Find out size of matrix:\n",
    "    n = np.shape(x)[0] - 1\n",
    "    \n",
    "    #Empty for moves\n",
    "    moves = []\n",
    "    \n",
    "    #Boundary Conditions: (i = 0 or n, j = 0 or n)\n",
    "    if i == 0 and j > 0 and j < n:\n",
    "        if x[i, j-1] == 0:\n",
    "            moves.append((i, j-1))\n",
    "        if x[i, j+1] == 0:\n",
    "            moves.append((i, j+1))\n",
    "        if x[i+1, j] == 0:\n",
    "            moves.append((i+1, j))\n",
    "            \n",
    "    elif i == n and j > 0 and j < n:\n",
    "        if x[i, j-1] == 0:\n",
    "            moves.append((i, j-1))\n",
    "        if x[i, j+1] == 0:\n",
    "            moves.append((i, j+1))\n",
    "        if x[i-1, j] == 0:\n",
    "            moves.append((i-1, j))\n",
    "            \n",
    "    elif i > 0 and i < n and j == 0:\n",
    "        if x[i-1, j] == 0:\n",
    "            moves.append((i-1, j))\n",
    "        if x[i+1, j] == 0:\n",
    "            moves.append((i+1, j))\n",
    "        if x[i, j+1] == 0:\n",
    "            moves.append((i, j+1))\n",
    "        \n",
    "    elif i > 0 and i < n and j == n:\n",
    "        if x[i-1, j] == 0:\n",
    "            moves.append((i-1, j))\n",
    "        if x[i+1, j] == 0:\n",
    "            moves.append((i+1, j))\n",
    "        if x[i, j-1] == 0:\n",
    "            moves.append((i, j-1))\n",
    "        \n",
    "    #Corners:\n",
    "    elif i == 0 and j == 0:\n",
    "        if x[i, j+1] == 0:\n",
    "            moves.append((i, j+1))\n",
    "        if x[i+1, j] == 0:\n",
    "            moves.append((i+1, j))\n",
    "    \n",
    "    elif i == 0 and j == n:\n",
    "        if x[i, j-1] == 0:\n",
    "            moves.append((i, j-1))\n",
    "        if x[i+1, j] == 0:\n",
    "            moves.append((i+1, j))\n",
    "    \n",
    "    elif i == n and j == 0:\n",
    "        if x[i, j+1] == 0:\n",
    "            moves.append((i, j+1))\n",
    "        if x[i-1, j] == 0:\n",
    "            moves.append((i-1, j))\n",
    "    \n",
    "    elif i == n and j == n:\n",
    "        if x[i, j-1] == 0:\n",
    "            moves.append((i, j-1))\n",
    "        if x[i-1, j] == 0:\n",
    "            moves.append((i-1, j))\n",
    "    \n",
    "    #Rest of the cells:\n",
    "    elif i > 0 and i < n and j > 0 and j < n:\n",
    "        if x[i-1, j] == 0:\n",
    "            moves.append((i-1, j))\n",
    "        if x[i+1, j] == 0:\n",
    "            moves.append((i+1, j))\n",
    "        if x[i, j-1] == 0:\n",
    "            moves.append((i, j-1))\n",
    "        if x[i, j+1] == 0:\n",
    "            moves.append((i, j+1))\n",
    "    else:\n",
    "        print(\"Error\")\n",
    "        pass\n",
    "    \n",
    "    \n",
    "    return moves"
   ]
  },
  {
   "cell_type": "code",
   "execution_count": 213,
   "metadata": {},
   "outputs": [
    {
     "name": "stdout",
     "output_type": "stream",
     "text": [
      "There are 8 unique runs\n",
      "Success rate 0.54\n"
     ]
    }
   ],
   "source": [
    "#Record Keeping:\n",
    "routes = []\n",
    "fails = 0\n",
    "unique_runs = []\n",
    "\n",
    "###### INPUTS ######\n",
    "n = 3\n",
    "runs = 100\n",
    "\n",
    "for r in range(runs):\n",
    "    x = matrix_maker(n)\n",
    "    x[0, 0] = 1\n",
    "    s = [0,0]    \n",
    "    \n",
    "    for i in np.arange(1,n*n):\n",
    "        moves = next_move(s[0], s[1], x)\n",
    "\n",
    "        if not moves:        \n",
    "                fails += 1\n",
    "                break\n",
    "\n",
    "        n_move = random.choice(moves)\n",
    "        s = [n_move[0], n_move[1]]\n",
    "        x[n_move[0], n_move[1]] = i + 1\n",
    "        \n",
    "        if x[n_move[0], n_move[1]] == n*n:\n",
    "            routes.append(x.flatten())\n",
    "            break\n",
    "            \n",
    "unique_runs = [list(x) for x in set(tuple(x) for x in routes)]\n",
    "print(\"There are %i unique runs\" %(len(unique_runs)))\n",
    "print(\"Success rate %4.2f\" %(len(routes) / runs))"
   ]
  },
  {
   "cell_type": "code",
   "execution_count": null,
   "metadata": {
    "collapsed": true
   },
   "outputs": [],
   "source": [
    "### Bit of testing:\n",
    "\n",
    "accuracy=[]\n",
    "\n",
    "for runs in np.arange(1000,20000,1000):\n",
    "    temp = []\n",
    "    for j in range(10):\n",
    "        #Record Keeping:\n",
    "        routes = []\n",
    "        fails = 0\n",
    "        unique_runs = []\n",
    "\n",
    "        ###### INPUTS ######\n",
    "        n = 4\n",
    "\n",
    "        for r in range(runs):\n",
    "            x = matrix_maker(n)\n",
    "            x[0, 0] = 1\n",
    "            s = [0,0]    \n",
    "\n",
    "            for i in np.arange(1,n*n):\n",
    "                moves = next_move(s[0], s[1], x)\n",
    "\n",
    "                if not moves:        \n",
    "                        fails += 1\n",
    "                        break\n",
    "\n",
    "                n_move = random.choice(moves)\n",
    "                s = [n_move[0], n_move[1]]\n",
    "                x[n_move[0], n_move[1]] = i + 1\n",
    "\n",
    "                if x[n_move[0], n_move[1]] == n*n:\n",
    "                    routes.append(x.flatten())\n",
    "                    break\n",
    "\n",
    "        unique_runs = [list(x) for x in set(tuple(x) for x in routes)]\n",
    "        temp.append(len(unique_runs) / 60)\n",
    "    \n",
    "    accuracy.append(sum(temp) / float(len(temp)))"
   ]
  },
  {
   "cell_type": "code",
   "execution_count": 221,
   "metadata": {},
   "outputs": [
    {
     "data": {
      "text/plain": [
       "[<matplotlib.lines.Line2D at 0x1e04c7f92b0>]"
      ]
     },
     "execution_count": 221,
     "metadata": {},
     "output_type": "execute_result"
    },
    {
     "data": {
      "image/png": "[encoded data removed]",
      "text/plain": [
       "<matplotlib.figure.Figure at 0x1e04bc6bf98>"
      ]
     },
     "metadata": {},
     "output_type": "display_data"
    }
   ],
   "source": [
    "plt.plot(accuracy)"
   ]
  },
  {
   "cell_type": "code",
   "execution_count": 223,
   "metadata": {},
   "outputs": [
    {
     "data": {
      "text/plain": [
       "array([[ 1, 12, 13, 14],\n",
       "       [ 2, 11, 10,  9],\n",
       "       [ 3,  0,  0,  8],\n",
       "       [ 4,  5,  6,  7]])"
      ]
     },
     "execution_count": 223,
     "metadata": {},
     "output_type": "execute_result"
    }
   ],
   "source": [
    "x"
   ]
  },
  {
   "cell_type": "code",
   "execution_count": null,
   "metadata": {
    "collapsed": true
   },
   "outputs": [],
   "source": []
  }
 ],
 "metadata": {
  "anaconda-cloud": {},
  "kernelspec": {
   "display_name": "Python [Root]",
   "language": "python",
   "name": "Python [Root]"
  },
  "language_info": {
   "codemirror_mode": {
    "name": "ipython",
    "version": 3
   },
   "file_extension": ".py",
   "mimetype": "text/x-python",
   "name": "python",
   "nbconvert_exporter": "python",
   "pygments_lexer": "ipython3",
   "version": "3.5.2"
  }
 },
 "nbformat": 4,
 "nbformat_minor": 1
}
