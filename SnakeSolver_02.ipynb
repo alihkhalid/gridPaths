{
 "cells": [
  {
   "cell_type": "code",
   "execution_count": 1,
   "metadata": {
    "collapsed": true
   },
   "outputs": [],
   "source": [
    "import numpy as np\n",
    "import random\n",
    "import time\n",
    "import matplotlib.pyplot as plt\n",
    "%matplotlib inline"
   ]
  },
  {
   "cell_type": "markdown",
   "metadata": {},
   "source": [
    "### Make Matrix"
   ]
  },
  {
   "cell_type": "markdown",
   "metadata": {},
   "source": [
    "Lets try and make a (n x n) matrix and number is 1 to (nxn):"
   ]
  },
  {
   "cell_type": "code",
   "execution_count": 2,
   "metadata": {
    "collapsed": true
   },
   "outputs": [],
   "source": [
    "def matrix_maker(n):\n",
    "    return np.zeros((n,n), dtype=np.int)"
   ]
  },
  {
   "cell_type": "code",
   "execution_count": 3,
   "metadata": {},
   "outputs": [
    {
     "data": {
      "text/plain": [
       "array([[0, 0, 0, 0],\n",
       "       [0, 0, 0, 0],\n",
       "       [0, 0, 0, 0],\n",
       "       [0, 0, 0, 0]])"
      ]
     },
     "execution_count": 3,
     "metadata": {},
     "output_type": "execute_result"
    }
   ],
   "source": [
    "n = 4\n",
    "x = matrix_maker(n)\n",
    "x"
   ]
  },
  {
   "cell_type": "markdown",
   "metadata": {},
   "source": [
    "Lets start with the snake starting at (1,1), we also need a script to check what the avaiable moves are at each point:"
   ]
  },
  {
   "cell_type": "code",
   "execution_count": 4,
   "metadata": {
    "collapsed": true
   },
   "outputs": [],
   "source": [
    "def next_move(i,j,x):\n",
    "    #Find out size of matrix:\n",
    "    n = np.shape(x)[0] - 1\n",
    "    \n",
    "    #Empty for moves\n",
    "    moves = []\n",
    "    \n",
    "    #Boundary Conditions: (i = 0 or n, j = 0 or n)\n",
    "    if i == 0 and j > 0 and j < n:\n",
    "        if x[i, j-1] == 0:\n",
    "            moves.append((i, j-1))\n",
    "        if x[i, j+1] == 0:\n",
    "            moves.append((i, j+1))\n",
    "        if x[i+1, j] == 0:\n",
    "            moves.append((i+1, j))\n",
    "            \n",
    "    elif i == n and j > 0 and j < n:\n",
    "        if x[i, j-1] == 0:\n",
    "            moves.append((i, j-1))\n",
    "        if x[i, j+1] == 0:\n",
    "            moves.append((i, j+1))\n",
    "        if x[i-1, j] == 0:\n",
    "            moves.append((i-1, j))\n",
    "            \n",
    "    elif i > 0 and i < n and j == 0:\n",
    "        if x[i-1, j] == 0:\n",
    "            moves.append((i-1, j))\n",
    "        if x[i+1, j] == 0:\n",
    "            moves.append((i+1, j))\n",
    "        if x[i, j+1] == 0:\n",
    "            moves.append((i, j+1))\n",
    "        \n",
    "    elif i > 0 and i < n and j == n:\n",
    "        if x[i-1, j] == 0:\n",
    "            moves.append((i-1, j))\n",
    "        if x[i+1, j] == 0:\n",
    "            moves.append((i+1, j))\n",
    "        if x[i, j-1] == 0:\n",
    "            moves.append((i, j-1))\n",
    "        \n",
    "    #Corners:\n",
    "    elif i == 0 and j == 0:\n",
    "        if x[i, j+1] == 0:\n",
    "            moves.append((i, j+1))\n",
    "        if x[i+1, j] == 0:\n",
    "            moves.append((i+1, j))\n",
    "    \n",
    "    elif i == 0 and j == n:\n",
    "        if x[i, j-1] == 0:\n",
    "            moves.append((i, j-1))\n",
    "        if x[i+1, j] == 0:\n",
    "            moves.append((i+1, j))\n",
    "    \n",
    "    elif i == n and j == 0:\n",
    "        if x[i, j+1] == 0:\n",
    "            moves.append((i, j+1))\n",
    "        if x[i-1, j] == 0:\n",
    "            moves.append((i-1, j))\n",
    "    \n",
    "    elif i == n and j == n:\n",
    "        if x[i, j-1] == 0:\n",
    "            moves.append((i, j-1))\n",
    "        if x[i-1, j] == 0:\n",
    "            moves.append((i-1, j))\n",
    "    \n",
    "    #Rest of the cells:\n",
    "    elif i > 0 and i < n and j > 0 and j < n:\n",
    "        if x[i-1, j] == 0:\n",
    "            moves.append((i-1, j))\n",
    "        if x[i+1, j] == 0:\n",
    "            moves.append((i+1, j))\n",
    "        if x[i, j-1] == 0:\n",
    "            moves.append((i, j-1))\n",
    "        if x[i, j+1] == 0:\n",
    "            moves.append((i, j+1))\n",
    "    else:\n",
    "        print(\"Error\")\n",
    "        pass\n",
    "    \n",
    "    \n",
    "    return moves"
   ]
  },
  {
   "cell_type": "code",
   "execution_count": 5,
   "metadata": {},
   "outputs": [
    {
     "name": "stdout",
     "output_type": "stream",
     "text": [
      "There are 52 unique runs\n",
      "Success rate 0.14\n"
     ]
    }
   ],
   "source": [
    "#Record Keeping:\n",
    "routes = []\n",
    "fails = 0\n",
    "unique_runs = []\n",
    "\n",
    "###### INPUTS ######\n",
    "n = 4\n",
    "runs = 10000\n",
    "\n",
    "for r in range(runs):\n",
    "    x = matrix_maker(n)\n",
    "    x[0, 0] = 1\n",
    "    s = [0,0]    \n",
    "    \n",
    "    for i in np.arange(1,n*n):\n",
    "        moves = next_move(s[0], s[1], x)\n",
    "\n",
    "        if not moves:        \n",
    "                fails += 1\n",
    "                break\n",
    "\n",
    "        n_move = random.choice(moves)\n",
    "        s = [n_move[0], n_move[1]]\n",
    "        x[n_move[0], n_move[1]] = i + 1\n",
    "        \n",
    "        if x[n_move[0], n_move[1]] == n*n:\n",
    "            routes.append(x.flatten())\n",
    "            break\n",
    "            \n",
    "unique_runs = [list(x) for x in set(tuple(x) for x in routes)]\n",
    "print(\"There are %i unique runs\" %(len(unique_runs)))\n",
    "print(\"Success rate %4.2f\" %(len(routes) / runs))"
   ]
  },
  {
   "cell_type": "code",
   "execution_count": 6,
   "metadata": {
    "collapsed": true
   },
   "outputs": [],
   "source": [
    "def find_routes(n, runs, start):\n",
    "      \n",
    "    #Record Keeping:\n",
    "    routes = []\n",
    "    fails = 0\n",
    "    unique_runs = []\n",
    "    \n",
    "    for r in range(runs):\n",
    "        x = matrix_maker(n)\n",
    "        x[start[0], start[1]] = 1\n",
    "        s = [start[0], start[1]]    \n",
    "    \n",
    "        for i in np.arange(1,n*n):\n",
    "            moves = next_move(s[0], s[1], x)\n",
    "\n",
    "            if not moves:        \n",
    "                    fails += 1\n",
    "                    break\n",
    "\n",
    "            n_move = random.choice(moves)\n",
    "            s = [n_move[0], n_move[1]]\n",
    "            x[n_move[0], n_move[1]] = i + 1\n",
    "\n",
    "            if x[n_move[0], n_move[1]] == n*n:\n",
    "                routes.append(x.flatten())\n",
    "                break\n",
    "            \n",
    "    unique_runs = [list(x) for x in set(tuple(x) for x in routes)]\n",
    "    # print(\"There are %i unique runs\" %(len(unique_runs)))\n",
    "    return len(unique_runs)"
   ]
  },
  {
   "cell_type": "code",
   "execution_count": 174,
   "metadata": {
    "collapsed": true
   },
   "outputs": [],
   "source": [
    "def mirror_mat(m, n):\n",
    "    \"\"\"\n",
    "    Inputs:\n",
    "    m = matrix\n",
    "    n = size of matrix\n",
    "    \"\"\"\n",
    "    A = []\n",
    "    B = []\n",
    "    C = []\n",
    "    D = []\n",
    "    E = []\n",
    "    \n",
    "    if n % 2 == 1:\n",
    "        \n",
    "        A = np.asanyarray(m)\n",
    "        B= np.flipud(A)\n",
    "        C= np.concatenate((A, B[1:]), axis=0)\n",
    "        D = np.fliplr(C)\n",
    "        E = np.concatenate((C, D[:,1:]), axis=1)\n",
    "        return np.reshape(E, (n,n))\n",
    "    else:\n",
    "        A = np.asanyarray(m)\n",
    "        B= np.flipud(A)\n",
    "        C= np.concatenate((A, B), axis=0)\n",
    "        D = np.fliplr(C)\n",
    "        E = np.concatenate((C, D), axis=1)\n",
    "        return np.reshape(E, (n,n))"
   ]
  },
  {
   "cell_type": "code",
   "execution_count": 175,
   "metadata": {},
   "outputs": [],
   "source": [
    "def route_matrix(n, runs):\n",
    "\n",
    "    routes_mat = matrix_maker(n)\n",
    "    \n",
    "    # if n is odd\n",
    "    if n % 2 == 1:\n",
    "        routes_mat = matrix_maker(int((n + 1) / 2))\n",
    "        for i in range(int((n + 1) / 2)):\n",
    "            for j in range(int((n + 1) / 2)):\n",
    "                routes_mat[i, j] = find_routes(n, runs, (i, j))\n",
    "\n",
    "    else:\n",
    "        routes_mat = matrix_maker(int(n/2))\n",
    "        for i in range(int(n/2)):\n",
    "            for j in range(int(n/2)):\n",
    "                routes_mat[i, j] = find_routes(n, runs, (i, j))\n",
    "        \n",
    "    return mirror_mat(routes_mat, n)"
   ]
  },
  {
   "cell_type": "code",
   "execution_count": 182,
   "metadata": {},
   "outputs": [
    {
     "name": "stdout",
     "output_type": "stream",
     "text": [
      "Wall time: 348 ms\n"
     ]
    }
   ],
   "source": [
    "%%time\n",
    "routes = route_matrix(3, 1000)\n",
    "routes"
   ]
  },
  {
   "cell_type": "code",
   "execution_count": 183,
   "metadata": {},
   "outputs": [
    {
     "data": {
      "text/plain": [
       "array([[8, 0, 8],\n",
       "       [0, 8, 0],\n",
       "       [8, 0, 8]])"
      ]
     },
     "execution_count": 183,
     "metadata": {},
     "output_type": "execute_result"
    }
   ],
   "source": [
    "routes"
   ]
  },
  {
   "cell_type": "code",
   "execution_count": null,
   "metadata": {
    "collapsed": true
   },
   "outputs": [],
   "source": []
  }
 ],
 "metadata": {
  "kernelspec": {
   "display_name": "Python 3",
   "language": "python",
   "name": "python3"
  },
  "language_info": {
   "codemirror_mode": {
    "name": "ipython",
    "version": 3
   },
   "file_extension": ".py",
   "mimetype": "text/x-python",
   "name": "python",
   "nbconvert_exporter": "python",
   "pygments_lexer": "ipython3",
   "version": "3.6.2"
  }
 },
 "nbformat": 4,
 "nbformat_minor": 2
}
